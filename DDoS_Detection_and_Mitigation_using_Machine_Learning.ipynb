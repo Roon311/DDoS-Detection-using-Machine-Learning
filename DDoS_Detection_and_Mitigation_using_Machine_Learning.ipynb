{
  "nbformat": 4,
  "nbformat_minor": 0,
  "metadata": {
    "colab": {
      "provenance": []
    },
    "kernelspec": {
      "name": "python3",
      "display_name": "Python 3"
    },
    "language_info": {
      "name": "python"
    }
  },
  "cells": [
    {
      "cell_type": "markdown",
      "source": [
        "![logo](https://drive.google.com/uc?export=view&id=1QJ9PAT9q-Ksv_Vs_pLXtLHxjjV-9FMTz)\n",
        "\n"
      ],
      "metadata": {
        "id": "6ar-zxtnQNpz"
      }
    },
    {
      "cell_type": "markdown",
      "source": [
        "<h1><b> DDoS Detection and Mitigation using Machine Learning<b></h1>\n",
        "\n",
        "_Prepared by_ **Noureldin Mohamed**\n",
        "\n"
      ],
      "metadata": {
        "id": "fg1N-MFPZspa"
      }
    },
    {
      "cell_type": "markdown",
      "source": [
        "# Introduction\n",
        "\n",
        "In the realm of cybersecurity, a Denial of Service (DoS) attack stands as a malicious endeavor aimed at disrupting the availability of a targeted system, be it a website or application, by inundating it with a massive volume of packets or requests. This concerted effort overwhelms the system, rendering it temporarily or entirely inaccessible to legitimate users. The advent of Distributed Denial of Service (DDoS) attacks further amplifies this challenge, as attackers orchestrate these assaults using multiple compromised or controlled sources. Recognizing and swiftly classifying such attacks become pivotal in preserving the integrity and availability of online platforms, safeguarding against potential disruptions to essential services.\n",
        "\n",
        "Our exploration zooms in on the broader landscape of DDoS attacks, where malevolent actors leverage a network of compromised computers to inundate a target system with traffic, causing widespread disruption. The critical need to distinguish between normal and malicious network behavior emerges as a linchpin in fortifying systems against these disruptive forces. Acknowledging the intricacies of this task, our approach pivots towards the formidable capabilities of Machine Learning (ML). ML offers a systematic and adaptive methodology for discerning patterns within expansive datasets, making it an ideal candidate for differentiating between benign and malicious network activity. Anchored by the utilization of the [apaddos-dataset](https://www.kaggle.com/datasets/yashwanthkumbam/apaddos-dataset/data), a specialized resource tailored for comprehending DDoS attacks, our journey aims to empower systems with the ability to autonomously identify and respond to potential threats, ushering in a more secure digital environment."
      ],
      "metadata": {
        "id": "Iwiygyg-ZJ0y"
      }
    },
    {
      "cell_type": "markdown",
      "source": [
        "![DDOS](https://www.f5.com/content/dam/f5-labs-v2/article/articles/edu/20190605_what_is_a_ddos/DDoS_attack.png)"
      ],
      "metadata": {
        "id": "03If3yhybgR6"
      }
    },
    {
      "cell_type": "markdown",
      "source": [
        "# **Imports**"
      ],
      "metadata": {
        "id": "-nzdhcQaS20G"
      }
    },
    {
      "cell_type": "code",
      "source": [
        "import numpy as np\n",
        "import pandas as pd"
      ],
      "metadata": {
        "id": "vCxdNfa9QJbQ"
      },
      "execution_count": 1,
      "outputs": []
    },
    {
      "cell_type": "markdown",
      "source": [
        "# **Loading The Data**"
      ],
      "metadata": {
        "id": "8tKlFjz0cTFq"
      }
    },
    {
      "cell_type": "code",
      "source": [
        "!gdown 1LRRE_Qy9oJRrYY_i0d227b0vVF_NnH4G # Download the data from the drive"
      ],
      "metadata": {
        "colab": {
          "base_uri": "https://localhost:8080/"
        },
        "id": "847UcSmDcSav",
        "outputId": "f1cbec8d-0129-4725-fe49-827f27e4e81e"
      },
      "execution_count": 2,
      "outputs": [
        {
          "output_type": "stream",
          "name": "stdout",
          "text": [
            "Downloading...\n",
            "From: https://drive.google.com/uc?id=1LRRE_Qy9oJRrYY_i0d227b0vVF_NnH4G\n",
            "To: /content/DDoS-Dataset.csv\n",
            "100% 21.7M/21.7M [00:00<00:00, 41.2MB/s]\n"
          ]
        }
      ]
    },
    {
      "cell_type": "markdown",
      "source": [
        "Lets load the data into a dataframe."
      ],
      "metadata": {
        "id": "BiCI18bocT0u"
      }
    },
    {
      "cell_type": "code",
      "source": [
        "ddos=pd.read_csv('DDoS-Dataset.csv') # Place the data in a dataframe"
      ],
      "metadata": {
        "id": "qy5RoUARcZrJ"
      },
      "execution_count": 3,
      "outputs": []
    },
    {
      "cell_type": "markdown",
      "source": [
        "Lets Display the data frame, and check some info about the dataset."
      ],
      "metadata": {
        "id": "gkf6n0sLcuj4"
      }
    },
    {
      "cell_type": "code",
      "source": [
        "ddos"
      ],
      "metadata": {
        "colab": {
          "base_uri": "https://localhost:8080/",
          "height": 615
        },
        "id": "qfusPbf5cvHY",
        "outputId": "a356e6e7-3119-4981-91ba-75c14e1492d1"
      },
      "execution_count": 4,
      "outputs": [
        {
          "output_type": "execute_result",
          "data": {
            "text/plain": [
              "              ip.src        ip.dst  tcp.srcport  tcp.dstport  ip.proto  \\\n",
              "0        192.168.1.1  192.168.23.2         2412         8000         6   \n",
              "1        192.168.1.1  192.168.23.2         2413         8000         6   \n",
              "2        192.168.1.1  192.168.23.2         2414         8000         6   \n",
              "3        192.168.1.1  192.168.23.2         2415         8000         6   \n",
              "4        192.168.1.1  192.168.23.2         2416         8000         6   \n",
              "...              ...           ...          ...          ...       ...   \n",
              "151195  192.168.19.1  192.168.23.2        37360         8000         6   \n",
              "151196  192.168.19.1  192.168.23.2        37362         8000         6   \n",
              "151197  192.168.19.1  192.168.23.2        37364         8000         6   \n",
              "151198  192.168.19.1  192.168.23.2        37366         8000         6   \n",
              "151199  192.168.19.1  192.168.23.2        37368         8000         6   \n",
              "\n",
              "        frame.len  tcp.flags.syn  tcp.flags.reset  tcp.flags.push  \\\n",
              "0              54              0                0               1   \n",
              "1              54              0                0               1   \n",
              "2              54              0                0               1   \n",
              "3              54              0                0               1   \n",
              "4              54              0                0               1   \n",
              "...           ...            ...              ...             ...   \n",
              "151195         66              0                0               0   \n",
              "151196         66              0                0               0   \n",
              "151197         66              0                0               0   \n",
              "151198         66              0                0               0   \n",
              "151199         66              0                0               0   \n",
              "\n",
              "        tcp.flags.ack  ...  tcp.seq  tcp.ack  \\\n",
              "0                   1  ...        1        1   \n",
              "1                   1  ...        1        1   \n",
              "2                   1  ...        1        1   \n",
              "3                   1  ...        1        1   \n",
              "4                   1  ...        1        1   \n",
              "...               ...  ...      ...      ...   \n",
              "151195              1  ...        1        1   \n",
              "151196              1  ...        1        1   \n",
              "151197              1  ...        1        1   \n",
              "151198              1  ...        1        1   \n",
              "151199              1  ...        1        1   \n",
              "\n",
              "                                               frame.time  Packets  Bytes  \\\n",
              "0        16-Jun 2020 20:18:15.071112000 Mountain Dayli...        8    432   \n",
              "1        16-Jun 2020 20:18:15.071138000 Mountain Dayli...       10    540   \n",
              "2        16-Jun 2020 20:18:15.071146000 Mountain Dayli...       12    648   \n",
              "3        16-Jun 2020 20:18:15.071152000 Mountain Dayli...       10    540   \n",
              "4        16-Jun 2020 20:18:15.071159000 Mountain Dayli...        6    324   \n",
              "...                                                   ...      ...    ...   \n",
              "151195   16-Jun 2020 22:10:46.923006000 Mountain Dayli...       10   1146   \n",
              "151196   16-Jun 2020 22:10:46.935672000 Mountain Dayli...       10   1151   \n",
              "151197   16-Jun 2020 22:10:46.957469000 Mountain Dayli...       10   1144   \n",
              "151198   16-Jun 2020 22:10:46.970971000 Mountain Dayli...       10   1175   \n",
              "151199   16-Jun 2020 22:10:46.984798000 Mountain Dayli...       10   1146   \n",
              "\n",
              "       Tx Packets  Tx Bytes  Rx Packets  Rx Bytes         Label  \n",
              "0               4       216           4       216  DDoS-PSH-ACK  \n",
              "1               5       270           5       270  DDoS-PSH-ACK  \n",
              "2               6       324           6       324  DDoS-PSH-ACK  \n",
              "3               5       270           5       270  DDoS-PSH-ACK  \n",
              "4               3       162           3       162  DDoS-PSH-ACK  \n",
              "...           ...       ...         ...       ...           ...  \n",
              "151195          6       560           4       586        Benign  \n",
              "151196          6       560           4       591        Benign  \n",
              "151197          6       560           4       584        Benign  \n",
              "151198          6       560           4       615        Benign  \n",
              "151199          6       560           4       586        Benign  \n",
              "\n",
              "[151200 rows x 23 columns]"
            ],
            "text/html": [
              "\n",
              "  <div id=\"df-b1469b88-f49e-4815-b76b-9c59842cbc02\" class=\"colab-df-container\">\n",
              "    <div>\n",
              "<style scoped>\n",
              "    .dataframe tbody tr th:only-of-type {\n",
              "        vertical-align: middle;\n",
              "    }\n",
              "\n",
              "    .dataframe tbody tr th {\n",
              "        vertical-align: top;\n",
              "    }\n",
              "\n",
              "    .dataframe thead th {\n",
              "        text-align: right;\n",
              "    }\n",
              "</style>\n",
              "<table border=\"1\" class=\"dataframe\">\n",
              "  <thead>\n",
              "    <tr style=\"text-align: right;\">\n",
              "      <th></th>\n",
              "      <th>ip.src</th>\n",
              "      <th>ip.dst</th>\n",
              "      <th>tcp.srcport</th>\n",
              "      <th>tcp.dstport</th>\n",
              "      <th>ip.proto</th>\n",
              "      <th>frame.len</th>\n",
              "      <th>tcp.flags.syn</th>\n",
              "      <th>tcp.flags.reset</th>\n",
              "      <th>tcp.flags.push</th>\n",
              "      <th>tcp.flags.ack</th>\n",
              "      <th>...</th>\n",
              "      <th>tcp.seq</th>\n",
              "      <th>tcp.ack</th>\n",
              "      <th>frame.time</th>\n",
              "      <th>Packets</th>\n",
              "      <th>Bytes</th>\n",
              "      <th>Tx Packets</th>\n",
              "      <th>Tx Bytes</th>\n",
              "      <th>Rx Packets</th>\n",
              "      <th>Rx Bytes</th>\n",
              "      <th>Label</th>\n",
              "    </tr>\n",
              "  </thead>\n",
              "  <tbody>\n",
              "    <tr>\n",
              "      <th>0</th>\n",
              "      <td>192.168.1.1</td>\n",
              "      <td>192.168.23.2</td>\n",
              "      <td>2412</td>\n",
              "      <td>8000</td>\n",
              "      <td>6</td>\n",
              "      <td>54</td>\n",
              "      <td>0</td>\n",
              "      <td>0</td>\n",
              "      <td>1</td>\n",
              "      <td>1</td>\n",
              "      <td>...</td>\n",
              "      <td>1</td>\n",
              "      <td>1</td>\n",
              "      <td>16-Jun 2020 20:18:15.071112000 Mountain Dayli...</td>\n",
              "      <td>8</td>\n",
              "      <td>432</td>\n",
              "      <td>4</td>\n",
              "      <td>216</td>\n",
              "      <td>4</td>\n",
              "      <td>216</td>\n",
              "      <td>DDoS-PSH-ACK</td>\n",
              "    </tr>\n",
              "    <tr>\n",
              "      <th>1</th>\n",
              "      <td>192.168.1.1</td>\n",
              "      <td>192.168.23.2</td>\n",
              "      <td>2413</td>\n",
              "      <td>8000</td>\n",
              "      <td>6</td>\n",
              "      <td>54</td>\n",
              "      <td>0</td>\n",
              "      <td>0</td>\n",
              "      <td>1</td>\n",
              "      <td>1</td>\n",
              "      <td>...</td>\n",
              "      <td>1</td>\n",
              "      <td>1</td>\n",
              "      <td>16-Jun 2020 20:18:15.071138000 Mountain Dayli...</td>\n",
              "      <td>10</td>\n",
              "      <td>540</td>\n",
              "      <td>5</td>\n",
              "      <td>270</td>\n",
              "      <td>5</td>\n",
              "      <td>270</td>\n",
              "      <td>DDoS-PSH-ACK</td>\n",
              "    </tr>\n",
              "    <tr>\n",
              "      <th>2</th>\n",
              "      <td>192.168.1.1</td>\n",
              "      <td>192.168.23.2</td>\n",
              "      <td>2414</td>\n",
              "      <td>8000</td>\n",
              "      <td>6</td>\n",
              "      <td>54</td>\n",
              "      <td>0</td>\n",
              "      <td>0</td>\n",
              "      <td>1</td>\n",
              "      <td>1</td>\n",
              "      <td>...</td>\n",
              "      <td>1</td>\n",
              "      <td>1</td>\n",
              "      <td>16-Jun 2020 20:18:15.071146000 Mountain Dayli...</td>\n",
              "      <td>12</td>\n",
              "      <td>648</td>\n",
              "      <td>6</td>\n",
              "      <td>324</td>\n",
              "      <td>6</td>\n",
              "      <td>324</td>\n",
              "      <td>DDoS-PSH-ACK</td>\n",
              "    </tr>\n",
              "    <tr>\n",
              "      <th>3</th>\n",
              "      <td>192.168.1.1</td>\n",
              "      <td>192.168.23.2</td>\n",
              "      <td>2415</td>\n",
              "      <td>8000</td>\n",
              "      <td>6</td>\n",
              "      <td>54</td>\n",
              "      <td>0</td>\n",
              "      <td>0</td>\n",
              "      <td>1</td>\n",
              "      <td>1</td>\n",
              "      <td>...</td>\n",
              "      <td>1</td>\n",
              "      <td>1</td>\n",
              "      <td>16-Jun 2020 20:18:15.071152000 Mountain Dayli...</td>\n",
              "      <td>10</td>\n",
              "      <td>540</td>\n",
              "      <td>5</td>\n",
              "      <td>270</td>\n",
              "      <td>5</td>\n",
              "      <td>270</td>\n",
              "      <td>DDoS-PSH-ACK</td>\n",
              "    </tr>\n",
              "    <tr>\n",
              "      <th>4</th>\n",
              "      <td>192.168.1.1</td>\n",
              "      <td>192.168.23.2</td>\n",
              "      <td>2416</td>\n",
              "      <td>8000</td>\n",
              "      <td>6</td>\n",
              "      <td>54</td>\n",
              "      <td>0</td>\n",
              "      <td>0</td>\n",
              "      <td>1</td>\n",
              "      <td>1</td>\n",
              "      <td>...</td>\n",
              "      <td>1</td>\n",
              "      <td>1</td>\n",
              "      <td>16-Jun 2020 20:18:15.071159000 Mountain Dayli...</td>\n",
              "      <td>6</td>\n",
              "      <td>324</td>\n",
              "      <td>3</td>\n",
              "      <td>162</td>\n",
              "      <td>3</td>\n",
              "      <td>162</td>\n",
              "      <td>DDoS-PSH-ACK</td>\n",
              "    </tr>\n",
              "    <tr>\n",
              "      <th>...</th>\n",
              "      <td>...</td>\n",
              "      <td>...</td>\n",
              "      <td>...</td>\n",
              "      <td>...</td>\n",
              "      <td>...</td>\n",
              "      <td>...</td>\n",
              "      <td>...</td>\n",
              "      <td>...</td>\n",
              "      <td>...</td>\n",
              "      <td>...</td>\n",
              "      <td>...</td>\n",
              "      <td>...</td>\n",
              "      <td>...</td>\n",
              "      <td>...</td>\n",
              "      <td>...</td>\n",
              "      <td>...</td>\n",
              "      <td>...</td>\n",
              "      <td>...</td>\n",
              "      <td>...</td>\n",
              "      <td>...</td>\n",
              "      <td>...</td>\n",
              "    </tr>\n",
              "    <tr>\n",
              "      <th>151195</th>\n",
              "      <td>192.168.19.1</td>\n",
              "      <td>192.168.23.2</td>\n",
              "      <td>37360</td>\n",
              "      <td>8000</td>\n",
              "      <td>6</td>\n",
              "      <td>66</td>\n",
              "      <td>0</td>\n",
              "      <td>0</td>\n",
              "      <td>0</td>\n",
              "      <td>1</td>\n",
              "      <td>...</td>\n",
              "      <td>1</td>\n",
              "      <td>1</td>\n",
              "      <td>16-Jun 2020 22:10:46.923006000 Mountain Dayli...</td>\n",
              "      <td>10</td>\n",
              "      <td>1146</td>\n",
              "      <td>6</td>\n",
              "      <td>560</td>\n",
              "      <td>4</td>\n",
              "      <td>586</td>\n",
              "      <td>Benign</td>\n",
              "    </tr>\n",
              "    <tr>\n",
              "      <th>151196</th>\n",
              "      <td>192.168.19.1</td>\n",
              "      <td>192.168.23.2</td>\n",
              "      <td>37362</td>\n",
              "      <td>8000</td>\n",
              "      <td>6</td>\n",
              "      <td>66</td>\n",
              "      <td>0</td>\n",
              "      <td>0</td>\n",
              "      <td>0</td>\n",
              "      <td>1</td>\n",
              "      <td>...</td>\n",
              "      <td>1</td>\n",
              "      <td>1</td>\n",
              "      <td>16-Jun 2020 22:10:46.935672000 Mountain Dayli...</td>\n",
              "      <td>10</td>\n",
              "      <td>1151</td>\n",
              "      <td>6</td>\n",
              "      <td>560</td>\n",
              "      <td>4</td>\n",
              "      <td>591</td>\n",
              "      <td>Benign</td>\n",
              "    </tr>\n",
              "    <tr>\n",
              "      <th>151197</th>\n",
              "      <td>192.168.19.1</td>\n",
              "      <td>192.168.23.2</td>\n",
              "      <td>37364</td>\n",
              "      <td>8000</td>\n",
              "      <td>6</td>\n",
              "      <td>66</td>\n",
              "      <td>0</td>\n",
              "      <td>0</td>\n",
              "      <td>0</td>\n",
              "      <td>1</td>\n",
              "      <td>...</td>\n",
              "      <td>1</td>\n",
              "      <td>1</td>\n",
              "      <td>16-Jun 2020 22:10:46.957469000 Mountain Dayli...</td>\n",
              "      <td>10</td>\n",
              "      <td>1144</td>\n",
              "      <td>6</td>\n",
              "      <td>560</td>\n",
              "      <td>4</td>\n",
              "      <td>584</td>\n",
              "      <td>Benign</td>\n",
              "    </tr>\n",
              "    <tr>\n",
              "      <th>151198</th>\n",
              "      <td>192.168.19.1</td>\n",
              "      <td>192.168.23.2</td>\n",
              "      <td>37366</td>\n",
              "      <td>8000</td>\n",
              "      <td>6</td>\n",
              "      <td>66</td>\n",
              "      <td>0</td>\n",
              "      <td>0</td>\n",
              "      <td>0</td>\n",
              "      <td>1</td>\n",
              "      <td>...</td>\n",
              "      <td>1</td>\n",
              "      <td>1</td>\n",
              "      <td>16-Jun 2020 22:10:46.970971000 Mountain Dayli...</td>\n",
              "      <td>10</td>\n",
              "      <td>1175</td>\n",
              "      <td>6</td>\n",
              "      <td>560</td>\n",
              "      <td>4</td>\n",
              "      <td>615</td>\n",
              "      <td>Benign</td>\n",
              "    </tr>\n",
              "    <tr>\n",
              "      <th>151199</th>\n",
              "      <td>192.168.19.1</td>\n",
              "      <td>192.168.23.2</td>\n",
              "      <td>37368</td>\n",
              "      <td>8000</td>\n",
              "      <td>6</td>\n",
              "      <td>66</td>\n",
              "      <td>0</td>\n",
              "      <td>0</td>\n",
              "      <td>0</td>\n",
              "      <td>1</td>\n",
              "      <td>...</td>\n",
              "      <td>1</td>\n",
              "      <td>1</td>\n",
              "      <td>16-Jun 2020 22:10:46.984798000 Mountain Dayli...</td>\n",
              "      <td>10</td>\n",
              "      <td>1146</td>\n",
              "      <td>6</td>\n",
              "      <td>560</td>\n",
              "      <td>4</td>\n",
              "      <td>586</td>\n",
              "      <td>Benign</td>\n",
              "    </tr>\n",
              "  </tbody>\n",
              "</table>\n",
              "<p>151200 rows × 23 columns</p>\n",
              "</div>\n",
              "    <div class=\"colab-df-buttons\">\n",
              "\n",
              "  <div class=\"colab-df-container\">\n",
              "    <button class=\"colab-df-convert\" onclick=\"convertToInteractive('df-b1469b88-f49e-4815-b76b-9c59842cbc02')\"\n",
              "            title=\"Convert this dataframe to an interactive table.\"\n",
              "            style=\"display:none;\">\n",
              "\n",
              "  <svg xmlns=\"http://www.w3.org/2000/svg\" height=\"24px\" viewBox=\"0 -960 960 960\">\n",
              "    <path d=\"M120-120v-720h720v720H120Zm60-500h600v-160H180v160Zm220 220h160v-160H400v160Zm0 220h160v-160H400v160ZM180-400h160v-160H180v160Zm440 0h160v-160H620v160ZM180-180h160v-160H180v160Zm440 0h160v-160H620v160Z\"/>\n",
              "  </svg>\n",
              "    </button>\n",
              "\n",
              "  <style>\n",
              "    .colab-df-container {\n",
              "      display:flex;\n",
              "      gap: 12px;\n",
              "    }\n",
              "\n",
              "    .colab-df-convert {\n",
              "      background-color: #E8F0FE;\n",
              "      border: none;\n",
              "      border-radius: 50%;\n",
              "      cursor: pointer;\n",
              "      display: none;\n",
              "      fill: #1967D2;\n",
              "      height: 32px;\n",
              "      padding: 0 0 0 0;\n",
              "      width: 32px;\n",
              "    }\n",
              "\n",
              "    .colab-df-convert:hover {\n",
              "      background-color: #E2EBFA;\n",
              "      box-shadow: 0px 1px 2px rgba(60, 64, 67, 0.3), 0px 1px 3px 1px rgba(60, 64, 67, 0.15);\n",
              "      fill: #174EA6;\n",
              "    }\n",
              "\n",
              "    .colab-df-buttons div {\n",
              "      margin-bottom: 4px;\n",
              "    }\n",
              "\n",
              "    [theme=dark] .colab-df-convert {\n",
              "      background-color: #3B4455;\n",
              "      fill: #D2E3FC;\n",
              "    }\n",
              "\n",
              "    [theme=dark] .colab-df-convert:hover {\n",
              "      background-color: #434B5C;\n",
              "      box-shadow: 0px 1px 3px 1px rgba(0, 0, 0, 0.15);\n",
              "      filter: drop-shadow(0px 1px 2px rgba(0, 0, 0, 0.3));\n",
              "      fill: #FFFFFF;\n",
              "    }\n",
              "  </style>\n",
              "\n",
              "    <script>\n",
              "      const buttonEl =\n",
              "        document.querySelector('#df-b1469b88-f49e-4815-b76b-9c59842cbc02 button.colab-df-convert');\n",
              "      buttonEl.style.display =\n",
              "        google.colab.kernel.accessAllowed ? 'block' : 'none';\n",
              "\n",
              "      async function convertToInteractive(key) {\n",
              "        const element = document.querySelector('#df-b1469b88-f49e-4815-b76b-9c59842cbc02');\n",
              "        const dataTable =\n",
              "          await google.colab.kernel.invokeFunction('convertToInteractive',\n",
              "                                                    [key], {});\n",
              "        if (!dataTable) return;\n",
              "\n",
              "        const docLinkHtml = 'Like what you see? Visit the ' +\n",
              "          '<a target=\"_blank\" href=https://colab.research.google.com/notebooks/data_table.ipynb>data table notebook</a>'\n",
              "          + ' to learn more about interactive tables.';\n",
              "        element.innerHTML = '';\n",
              "        dataTable['output_type'] = 'display_data';\n",
              "        await google.colab.output.renderOutput(dataTable, element);\n",
              "        const docLink = document.createElement('div');\n",
              "        docLink.innerHTML = docLinkHtml;\n",
              "        element.appendChild(docLink);\n",
              "      }\n",
              "    </script>\n",
              "  </div>\n",
              "\n",
              "\n",
              "<div id=\"df-61760591-53bc-4279-acae-e467e4f24a36\">\n",
              "  <button class=\"colab-df-quickchart\" onclick=\"quickchart('df-61760591-53bc-4279-acae-e467e4f24a36')\"\n",
              "            title=\"Suggest charts\"\n",
              "            style=\"display:none;\">\n",
              "\n",
              "<svg xmlns=\"http://www.w3.org/2000/svg\" height=\"24px\"viewBox=\"0 0 24 24\"\n",
              "     width=\"24px\">\n",
              "    <g>\n",
              "        <path d=\"M19 3H5c-1.1 0-2 .9-2 2v14c0 1.1.9 2 2 2h14c1.1 0 2-.9 2-2V5c0-1.1-.9-2-2-2zM9 17H7v-7h2v7zm4 0h-2V7h2v10zm4 0h-2v-4h2v4z\"/>\n",
              "    </g>\n",
              "</svg>\n",
              "  </button>\n",
              "\n",
              "<style>\n",
              "  .colab-df-quickchart {\n",
              "      --bg-color: #E8F0FE;\n",
              "      --fill-color: #1967D2;\n",
              "      --hover-bg-color: #E2EBFA;\n",
              "      --hover-fill-color: #174EA6;\n",
              "      --disabled-fill-color: #AAA;\n",
              "      --disabled-bg-color: #DDD;\n",
              "  }\n",
              "\n",
              "  [theme=dark] .colab-df-quickchart {\n",
              "      --bg-color: #3B4455;\n",
              "      --fill-color: #D2E3FC;\n",
              "      --hover-bg-color: #434B5C;\n",
              "      --hover-fill-color: #FFFFFF;\n",
              "      --disabled-bg-color: #3B4455;\n",
              "      --disabled-fill-color: #666;\n",
              "  }\n",
              "\n",
              "  .colab-df-quickchart {\n",
              "    background-color: var(--bg-color);\n",
              "    border: none;\n",
              "    border-radius: 50%;\n",
              "    cursor: pointer;\n",
              "    display: none;\n",
              "    fill: var(--fill-color);\n",
              "    height: 32px;\n",
              "    padding: 0;\n",
              "    width: 32px;\n",
              "  }\n",
              "\n",
              "  .colab-df-quickchart:hover {\n",
              "    background-color: var(--hover-bg-color);\n",
              "    box-shadow: 0 1px 2px rgba(60, 64, 67, 0.3), 0 1px 3px 1px rgba(60, 64, 67, 0.15);\n",
              "    fill: var(--button-hover-fill-color);\n",
              "  }\n",
              "\n",
              "  .colab-df-quickchart-complete:disabled,\n",
              "  .colab-df-quickchart-complete:disabled:hover {\n",
              "    background-color: var(--disabled-bg-color);\n",
              "    fill: var(--disabled-fill-color);\n",
              "    box-shadow: none;\n",
              "  }\n",
              "\n",
              "  .colab-df-spinner {\n",
              "    border: 2px solid var(--fill-color);\n",
              "    border-color: transparent;\n",
              "    border-bottom-color: var(--fill-color);\n",
              "    animation:\n",
              "      spin 1s steps(1) infinite;\n",
              "  }\n",
              "\n",
              "  @keyframes spin {\n",
              "    0% {\n",
              "      border-color: transparent;\n",
              "      border-bottom-color: var(--fill-color);\n",
              "      border-left-color: var(--fill-color);\n",
              "    }\n",
              "    20% {\n",
              "      border-color: transparent;\n",
              "      border-left-color: var(--fill-color);\n",
              "      border-top-color: var(--fill-color);\n",
              "    }\n",
              "    30% {\n",
              "      border-color: transparent;\n",
              "      border-left-color: var(--fill-color);\n",
              "      border-top-color: var(--fill-color);\n",
              "      border-right-color: var(--fill-color);\n",
              "    }\n",
              "    40% {\n",
              "      border-color: transparent;\n",
              "      border-right-color: var(--fill-color);\n",
              "      border-top-color: var(--fill-color);\n",
              "    }\n",
              "    60% {\n",
              "      border-color: transparent;\n",
              "      border-right-color: var(--fill-color);\n",
              "    }\n",
              "    80% {\n",
              "      border-color: transparent;\n",
              "      border-right-color: var(--fill-color);\n",
              "      border-bottom-color: var(--fill-color);\n",
              "    }\n",
              "    90% {\n",
              "      border-color: transparent;\n",
              "      border-bottom-color: var(--fill-color);\n",
              "    }\n",
              "  }\n",
              "</style>\n",
              "\n",
              "  <script>\n",
              "    async function quickchart(key) {\n",
              "      const quickchartButtonEl =\n",
              "        document.querySelector('#' + key + ' button');\n",
              "      quickchartButtonEl.disabled = true;  // To prevent multiple clicks.\n",
              "      quickchartButtonEl.classList.add('colab-df-spinner');\n",
              "      try {\n",
              "        const charts = await google.colab.kernel.invokeFunction(\n",
              "            'suggestCharts', [key], {});\n",
              "      } catch (error) {\n",
              "        console.error('Error during call to suggestCharts:', error);\n",
              "      }\n",
              "      quickchartButtonEl.classList.remove('colab-df-spinner');\n",
              "      quickchartButtonEl.classList.add('colab-df-quickchart-complete');\n",
              "    }\n",
              "    (() => {\n",
              "      let quickchartButtonEl =\n",
              "        document.querySelector('#df-61760591-53bc-4279-acae-e467e4f24a36 button');\n",
              "      quickchartButtonEl.style.display =\n",
              "        google.colab.kernel.accessAllowed ? 'block' : 'none';\n",
              "    })();\n",
              "  </script>\n",
              "</div>\n",
              "    </div>\n",
              "  </div>\n"
            ]
          },
          "metadata": {},
          "execution_count": 4
        }
      ]
    },
    {
      "cell_type": "code",
      "source": [
        "ddos.info()"
      ],
      "metadata": {
        "colab": {
          "base_uri": "https://localhost:8080/"
        },
        "id": "SvbIxVI8c0av",
        "outputId": "4af3b193-b6ce-4206-85c8-3e4915c40fa1"
      },
      "execution_count": 5,
      "outputs": [
        {
          "output_type": "stream",
          "name": "stdout",
          "text": [
            "<class 'pandas.core.frame.DataFrame'>\n",
            "RangeIndex: 151200 entries, 0 to 151199\n",
            "Data columns (total 23 columns):\n",
            " #   Column           Non-Null Count   Dtype \n",
            "---  ------           --------------   ----- \n",
            " 0   ip.src           151200 non-null  object\n",
            " 1   ip.dst           151200 non-null  object\n",
            " 2   tcp.srcport      151200 non-null  int64 \n",
            " 3   tcp.dstport      151200 non-null  int64 \n",
            " 4   ip.proto         151200 non-null  int64 \n",
            " 5   frame.len        151200 non-null  int64 \n",
            " 6   tcp.flags.syn    151200 non-null  int64 \n",
            " 7   tcp.flags.reset  151200 non-null  int64 \n",
            " 8   tcp.flags.push   151200 non-null  int64 \n",
            " 9   tcp.flags.ack    151200 non-null  int64 \n",
            " 10  ip.flags.mf      151200 non-null  int64 \n",
            " 11  ip.flags.df      151200 non-null  int64 \n",
            " 12  ip.flags.rb      151200 non-null  int64 \n",
            " 13  tcp.seq          151200 non-null  int64 \n",
            " 14  tcp.ack          151200 non-null  int64 \n",
            " 15  frame.time       151200 non-null  object\n",
            " 16  Packets          151200 non-null  int64 \n",
            " 17  Bytes            151200 non-null  int64 \n",
            " 18  Tx Packets       151200 non-null  int64 \n",
            " 19  Tx Bytes         151200 non-null  int64 \n",
            " 20  Rx Packets       151200 non-null  int64 \n",
            " 21  Rx Bytes         151200 non-null  int64 \n",
            " 22  Label            151200 non-null  object\n",
            "dtypes: int64(19), object(4)\n",
            "memory usage: 26.5+ MB\n"
          ]
        }
      ]
    },
    {
      "cell_type": "markdown",
      "source": [
        "We have different features each providing different information about network traffic. Here's a brief explanation of some of the columns based on their headings:\n",
        "\n",
        "1. **ip.src:** Source IP address of the network traffic.\n",
        "2. **ip.dst:** Destination IP address of the network traffic.\n",
        "3. **tcp.srcport:** Source port number for TCP (Transmission Control Protocol).\n",
        "4. **tcp.dstport:** Destination port number for TCP.\n",
        "5. **ip.proto:** IP protocol used (e.g., TCP, UDP).\n",
        "6. **frame.len:** Length of the network frame.\n",
        "7. **tcp.flags.syn:** TCP SYN flag.\n",
        "8. **tcp.flags.reset:** TCP RST flag.\n",
        "9. **tcp.flags.push:** TCP PUSH flag.\n",
        "10. **tcp.flags.ack:** TCP ACK flag.\n",
        "11. **ip.flags.mf:** IP More Fragments flag.\n",
        "12. **ip.flags.df:** IP Do Not Fragment flag.\n",
        "13. **ip.flags.rb:** Reserved bits in the IP header.\n",
        "14. **tcp.seq:** TCP sequence number.\n",
        "15. **tcp.ack:** TCP acknowledgment number.\n",
        "16. **frame.time:** Timestamp of the network frame.\n",
        "17. **Packets:** Number of packets in the network frame.\n",
        "18. **Bytes:** Number of bytes in the network frame.\n",
        "19. **Tx Packets:** Number of transmitted packets.\n",
        "20. **Tx Bytes:** Number of transmitted bytes.\n",
        "21. **Rx Packets:** Number of received packets.\n",
        "22. **Rx Bytes:** Number of received bytes.\n",
        "23. **Label:** The label or category assigned to the network event (e.g., 'DDoS-PSH-ACK', 'Benign', 'DDoS-ACK').\n",
        "\n",
        "These columns provide information about the source and destination of the traffic, the protocol used, flags in the TCP header, packet and byte counts, and the label of network event."
      ],
      "metadata": {
        "id": "2UGQB7_Fddhq"
      }
    },
    {
      "cell_type": "markdown",
      "source": [
        "# **Exploratory Data Analysis**\n"
      ],
      "metadata": {
        "id": "Q--gjCMJdMJk"
      }
    },
    {
      "cell_type": "markdown",
      "source": [
        "Exploratory Data Analysis (EDA) is a crucial process in the realm of data analysis, involving the examination and summarization of a dataset to unravel its inherent structure and relationships. It serves as a foundational step in the broader data science journey, enabling a comprehensive understanding of patterns, trends, and anomalies that might not be immediately apparent.\n",
        "\n",
        "When it comes to Machine Learning (ML), EDA holds several advantages:\n",
        "\n",
        "- **Understanding the Data:** EDA provides a comprehensive grasp of the dataset, elucidating the distribution of data, inter-feature relationships, and the presence of any missing or corrupted values.\n",
        "\n",
        "- **Identifying Potential Issues:** EDA serves as a detective tool, helping unveil potential issues within the data, such as missing values or outliers. Detecting and addressing these problems early on is crucial for the optimal performance of your ML model.\n",
        "\n",
        "- **Informing Model Selection:** EDA guides the selection of appropriate ML models by shedding light on the dataset's characteristics. For instance, if the data exhibits highly non-linear relationships, choosing a model capable of capturing complex patterns, like a neural network, may be warranted.\n",
        "\n",
        "- **Improving Model Performance:** A deep understanding of the data's structure acquired through EDA facilitates the fine-tuning of ML model hyperparameters. This optimization process contributes to enhanced model performance.\n",
        "\n",
        "In essence, EDA serves as a cornerstone in the broader ML workflow, offering insights into the data and aiding in the identification of potential issues that may influence model performance. EDA is a dynamic process, providing the flexibility to explore various ways to dissect and interpret the dataset."
      ],
      "metadata": {
        "id": "jfbtmHFNdKNm"
      }
    },
    {
      "cell_type": "markdown",
      "source": [
        "## **Checking for nulls**\n",
        "Checking for nulls (or missing values) in a dataset is a crucial step in the data preprocessing phase. Detecting and handling null values is essential to avoid any misinterpretation."
      ],
      "metadata": {
        "id": "r64_yWxFdSQj"
      }
    },
    {
      "cell_type": "code",
      "source": [
        "ddos.isna().sum()"
      ],
      "metadata": {
        "colab": {
          "base_uri": "https://localhost:8080/"
        },
        "id": "uzvRSFLBdJ-Z",
        "outputId": "eba9b420-7b63-4dee-a89b-573e2f64dc53"
      },
      "execution_count": 6,
      "outputs": [
        {
          "output_type": "execute_result",
          "data": {
            "text/plain": [
              "ip.src             0\n",
              "ip.dst             0\n",
              "tcp.srcport        0\n",
              "tcp.dstport        0\n",
              "ip.proto           0\n",
              "frame.len          0\n",
              "tcp.flags.syn      0\n",
              "tcp.flags.reset    0\n",
              "tcp.flags.push     0\n",
              "tcp.flags.ack      0\n",
              "ip.flags.mf        0\n",
              "ip.flags.df        0\n",
              "ip.flags.rb        0\n",
              "tcp.seq            0\n",
              "tcp.ack            0\n",
              "frame.time         0\n",
              "Packets            0\n",
              "Bytes              0\n",
              "Tx Packets         0\n",
              "Tx Bytes           0\n",
              "Rx Packets         0\n",
              "Rx Bytes           0\n",
              "Label              0\n",
              "dtype: int64"
            ]
          },
          "metadata": {},
          "execution_count": 6
        }
      ]
    },
    {
      "cell_type": "markdown",
      "source": [
        "## **Checking for duplicates**\n",
        "Duplicate entries can introduce inaccuracies in analyses and statistical summaries, leading to distorted insights. Ensuring data accuracy is paramount, and detecting and eliminating duplicates is a key step in achieving this. This can result in overfitting, where the model performs well on the training data but poorly on new, unseen data (biased model), so to avoid this we drop duplicates"
      ],
      "metadata": {
        "id": "XfQRgFKheJpH"
      }
    },
    {
      "cell_type": "code",
      "source": [
        "ddos.duplicated().sum()"
      ],
      "metadata": {
        "colab": {
          "base_uri": "https://localhost:8080/"
        },
        "id": "XGbltJMteLpY",
        "outputId": "bcc9f4ba-0762-4019-8031-df84ceea566b"
      },
      "execution_count": 7,
      "outputs": [
        {
          "output_type": "execute_result",
          "data": {
            "text/plain": [
              "0"
            ]
          },
          "metadata": {},
          "execution_count": 7
        }
      ]
    },
    {
      "cell_type": "markdown",
      "source": [
        "There are no duplicates or nulls that needs to be dropped, so we can proceed into our analysis."
      ],
      "metadata": {
        "id": "cxJS-KJAeSmr"
      }
    },
    {
      "cell_type": "code",
      "source": [
        "ddos.groupby('Label').size()"
      ],
      "metadata": {
        "colab": {
          "base_uri": "https://localhost:8080/"
        },
        "id": "_qSCXAP7eb8S",
        "outputId": "d4bac43b-84b4-455c-dbf1-a5194dabee4c"
      },
      "execution_count": 8,
      "outputs": [
        {
          "output_type": "execute_result",
          "data": {
            "text/plain": [
              "Label\n",
              "Benign          75600\n",
              "DDoS-ACK        37800\n",
              "DDoS-PSH-ACK    37800\n",
              "dtype: int64"
            ]
          },
          "metadata": {},
          "execution_count": 8
        }
      ]
    },
    {
      "cell_type": "markdown",
      "source": [
        "We have 75600 Benign, and 75600 DDOS attacks"
      ],
      "metadata": {
        "id": "bs9Puic9elsC"
      }
    }
  ]
}